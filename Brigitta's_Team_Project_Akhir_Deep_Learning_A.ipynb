{
  "nbformat": 4,
  "nbformat_minor": 0,
  "metadata": {
    "colab": {
      "provenance": [],
      "include_colab_link": true
    },
    "kernelspec": {
      "name": "python3",
      "display_name": "Python 3"
    },
    "language_info": {
      "name": "python"
    }
  },
  "cells": [
    {
      "cell_type": "markdown",
      "metadata": {
        "id": "view-in-github",
        "colab_type": "text"
      },
      "source": [
        "<a href=\"https://colab.research.google.com/github/heyitseufra/heyitseufra-ProjectAkhirDeepLearning/blob/main/Brigitta's_Team_Project_Akhir_Deep_Learning_A.ipynb\" target=\"_parent\"><img src=\"https://colab.research.google.com/assets/colab-badge.svg\" alt=\"Open In Colab\"/></a>"
      ]
    },
    {
      "cell_type": "markdown",
      "source": [
        "#**TRANSFORMATION OF TABULAR DATA INTO 2D REPRESENTATIONS FOR ATTACK DETECTION USING CNN ON THE HIKARI-2021 DATASET**"
      ],
      "metadata": {
        "id": "2Ou4U1CFCwf3"
      }
    },
    {
      "cell_type": "markdown",
      "source": [
        "Nama Anggota Kelompok:\n",
        "1. Asti Syafitri (225150201111006)\n",
        "2. Brigitta Mery Rosarie Eufra Nilapaksi (225150207111016)\n",
        "3. Paula Sugiarto (225150207111058)"
      ],
      "metadata": {
        "id": "XMvDICTpC7DK"
      }
    },
    {
      "cell_type": "markdown",
      "source": [
        "#**1. Mengunduh Dataset**"
      ],
      "metadata": {
        "id": "fFyTSrB4CbQx"
      }
    },
    {
      "cell_type": "code",
      "execution_count": null,
      "metadata": {
        "colab": {
          "base_uri": "https://localhost:8080/"
        },
        "id": "Pnh2ZUM9xq2z",
        "outputId": "eb609d63-16a0-4b78-a0bb-14c734af290f"
      },
      "outputs": [
        {
          "output_type": "stream",
          "name": "stdout",
          "text": [
            "Warning: Looks like you're using an outdated `kagglehub` version (installed: 0.3.5), please consider upgrading to the latest version (0.3.6).\n",
            "Path to dataset files: /root/.cache/kagglehub/datasets/kk0105/allflowmeter-hikari2021/versions/1\n"
          ]
        }
      ],
      "source": [
        "# Mengunduh dataset terbaru dari Kaggle menggunakan kagglehub\n",
        "import kagglehub\n",
        "\n",
        "# Download latest version\n",
        "path = kagglehub.dataset_download(\"kk0105/allflowmeter-hikari2021\")\n",
        "\n",
        "# Menampilkan path folder dataset yang telah diunduh\n",
        "print(\"Path to dataset files:\", path)"
      ]
    },
    {
      "cell_type": "markdown",
      "source": [
        "#**2. Memuat dan Memeriksa Data**"
      ],
      "metadata": {
        "id": "JBwJXGetEEHJ"
      }
    },
    {
      "cell_type": "code",
      "source": [
        "# Mengimpor pustaka yang diperlukan\n",
        "import os\n",
        "import pandas as pd\n",
        "\n",
        "# Path folder dataset\n",
        "dataset_path = '/root/.cache/kagglehub/datasets/kk0105/allflowmeter-hikari2021/versions/1'\n",
        "files = os.listdir(dataset_path)\n",
        "\n",
        "print(\"File yang ada di dalam folder dataset:\")\n",
        "print(files)\n",
        "\n",
        "# Membaca file CSV\n",
        "csv_file_path = os.path.join(dataset_path, 'ALLFLOWMETER_HIKARI2021.csv')\n",
        "data = pd.read_csv(csv_file_path)\n",
        "\n",
        "# Menampilkan kolom dan sampel data\n",
        "print(\"Kolom dalam dataset:\", data.columns.tolist())\n",
        "print(data.head())\n",
        "\n",
        "# Menampilkan header dan tipe datanya\n",
        "for column, value in data.iloc[0].items():\n",
        "    print(f\"{column} : {type(value)}\")"
      ],
      "metadata": {
        "colab": {
          "base_uri": "https://localhost:8080/"
        },
        "id": "wDYr6lOwyipC",
        "outputId": "b4dac92f-27a8-4636-b22e-4b9829861618"
      },
      "execution_count": null,
      "outputs": [
        {
          "output_type": "stream",
          "name": "stdout",
          "text": [
            "File yang ada di dalam folder dataset:\n",
            "['ALLFLOWMETER_HIKARI2021.csv']\n",
            "Kolom dalam dataset: ['Unnamed: 0.1', 'Unnamed: 0', 'uid', 'originh', 'originp', 'responh', 'responp', 'flow_duration', 'fwd_pkts_tot', 'bwd_pkts_tot', 'fwd_data_pkts_tot', 'bwd_data_pkts_tot', 'fwd_pkts_per_sec', 'bwd_pkts_per_sec', 'flow_pkts_per_sec', 'down_up_ratio', 'fwd_header_size_tot', 'fwd_header_size_min', 'fwd_header_size_max', 'bwd_header_size_tot', 'bwd_header_size_min', 'bwd_header_size_max', 'flow_FIN_flag_count', 'flow_SYN_flag_count', 'flow_RST_flag_count', 'fwd_PSH_flag_count', 'bwd_PSH_flag_count', 'flow_ACK_flag_count', 'fwd_URG_flag_count', 'bwd_URG_flag_count', 'flow_CWR_flag_count', 'flow_ECE_flag_count', 'fwd_pkts_payload.min', 'fwd_pkts_payload.max', 'fwd_pkts_payload.tot', 'fwd_pkts_payload.avg', 'fwd_pkts_payload.std', 'bwd_pkts_payload.min', 'bwd_pkts_payload.max', 'bwd_pkts_payload.tot', 'bwd_pkts_payload.avg', 'bwd_pkts_payload.std', 'flow_pkts_payload.min', 'flow_pkts_payload.max', 'flow_pkts_payload.tot', 'flow_pkts_payload.avg', 'flow_pkts_payload.std', 'fwd_iat.min', 'fwd_iat.max', 'fwd_iat.tot', 'fwd_iat.avg', 'fwd_iat.std', 'bwd_iat.min', 'bwd_iat.max', 'bwd_iat.tot', 'bwd_iat.avg', 'bwd_iat.std', 'flow_iat.min', 'flow_iat.max', 'flow_iat.tot', 'flow_iat.avg', 'flow_iat.std', 'payload_bytes_per_second', 'fwd_subflow_pkts', 'bwd_subflow_pkts', 'fwd_subflow_bytes', 'bwd_subflow_bytes', 'fwd_bulk_bytes', 'bwd_bulk_bytes', 'fwd_bulk_packets', 'bwd_bulk_packets', 'fwd_bulk_rate', 'bwd_bulk_rate', 'active.min', 'active.max', 'active.tot', 'active.avg', 'active.std', 'idle.min', 'idle.max', 'idle.tot', 'idle.avg', 'idle.std', 'fwd_init_window_size', 'bwd_init_window_size', 'fwd_last_window_size', 'traffic_category', 'Label']\n",
            "   Unnamed: 0.1  Unnamed: 0                 uid        originh  originp  \\\n",
            "0             0           0   Cg61Jch3vdz9DBptj  103.255.15.23    13316   \n",
            "1             1           1   CdRIlqLWdj35Y9vW9  103.255.15.23    13318   \n",
            "2             2           2   CLzp9Khd0Y09Qkgrg  103.255.15.23    13320   \n",
            "3             3           3  Cnf1YA4iLB4CSNWB88  103.255.15.23    13322   \n",
            "4             4           4  C4ZKvv3fpO72EAOsJ6  103.255.15.23    13324   \n",
            "\n",
            "           responh  responp  flow_duration  fwd_pkts_tot  bwd_pkts_tot  ...  \\\n",
            "0  128.199.242.104      443       2.207588            15            14  ...   \n",
            "1  128.199.242.104      443      15.624266            15            14  ...   \n",
            "2  128.199.242.104      443      12.203357            14            13  ...   \n",
            "3  128.199.242.104      443       9.992448            14            13  ...   \n",
            "4  128.199.242.104      443       7.780611            14            14  ...   \n",
            "\n",
            "       idle.min      idle.max      idle.tot      idle.avg  idle.std  \\\n",
            "0  0.000000e+00  0.000000e+00  0.000000e+00  0.000000e+00       0.0   \n",
            "1  1.534300e+07  1.534300e+07  1.534300e+07  1.534300e+07       0.0   \n",
            "2  1.196814e+07  1.196814e+07  1.196814e+07  1.196814e+07       0.0   \n",
            "3  9.759205e+06  9.759205e+06  9.759205e+06  9.759205e+06       0.0   \n",
            "4  7.545305e+06  7.545305e+06  7.545305e+06  7.545305e+06       0.0   \n",
            "\n",
            "   fwd_init_window_size  bwd_init_window_size  fwd_last_window_size  \\\n",
            "0                 29200                 65160                     0   \n",
            "1                 29200                 65160                     0   \n",
            "2                 29200                 65160                     0   \n",
            "3                 29200                 65160                     0   \n",
            "4                 29200                 65160                     0   \n",
            "\n",
            "   traffic_category  Label  \n",
            "0    Bruteforce-XML      1  \n",
            "1    Bruteforce-XML      1  \n",
            "2    Bruteforce-XML      1  \n",
            "3    Bruteforce-XML      1  \n",
            "4    Bruteforce-XML      1  \n",
            "\n",
            "[5 rows x 88 columns]\n",
            "Unnamed: 0.1 : <class 'numpy.int64'>\n",
            "Unnamed: 0 : <class 'numpy.int64'>\n",
            "uid : <class 'str'>\n",
            "originh : <class 'str'>\n",
            "originp : <class 'numpy.int64'>\n",
            "responh : <class 'str'>\n",
            "responp : <class 'numpy.int64'>\n",
            "flow_duration : <class 'numpy.float64'>\n",
            "fwd_pkts_tot : <class 'numpy.int64'>\n",
            "bwd_pkts_tot : <class 'numpy.int64'>\n",
            "fwd_data_pkts_tot : <class 'numpy.int64'>\n",
            "bwd_data_pkts_tot : <class 'numpy.int64'>\n",
            "fwd_pkts_per_sec : <class 'numpy.float64'>\n",
            "bwd_pkts_per_sec : <class 'numpy.float64'>\n",
            "flow_pkts_per_sec : <class 'numpy.float64'>\n",
            "down_up_ratio : <class 'numpy.float64'>\n",
            "fwd_header_size_tot : <class 'numpy.int64'>\n",
            "fwd_header_size_min : <class 'numpy.int64'>\n",
            "fwd_header_size_max : <class 'numpy.int64'>\n",
            "bwd_header_size_tot : <class 'numpy.int64'>\n",
            "bwd_header_size_min : <class 'numpy.int64'>\n",
            "bwd_header_size_max : <class 'numpy.int64'>\n",
            "flow_FIN_flag_count : <class 'numpy.int64'>\n",
            "flow_SYN_flag_count : <class 'numpy.int64'>\n",
            "flow_RST_flag_count : <class 'numpy.int64'>\n",
            "fwd_PSH_flag_count : <class 'numpy.int64'>\n",
            "bwd_PSH_flag_count : <class 'numpy.int64'>\n",
            "flow_ACK_flag_count : <class 'numpy.int64'>\n",
            "fwd_URG_flag_count : <class 'numpy.int64'>\n",
            "bwd_URG_flag_count : <class 'numpy.int64'>\n",
            "flow_CWR_flag_count : <class 'numpy.int64'>\n",
            "flow_ECE_flag_count : <class 'numpy.int64'>\n",
            "fwd_pkts_payload.min : <class 'numpy.float64'>\n",
            "fwd_pkts_payload.max : <class 'numpy.float64'>\n",
            "fwd_pkts_payload.tot : <class 'numpy.float64'>\n",
            "fwd_pkts_payload.avg : <class 'numpy.float64'>\n",
            "fwd_pkts_payload.std : <class 'numpy.float64'>\n",
            "bwd_pkts_payload.min : <class 'numpy.float64'>\n",
            "bwd_pkts_payload.max : <class 'numpy.float64'>\n",
            "bwd_pkts_payload.tot : <class 'numpy.float64'>\n",
            "bwd_pkts_payload.avg : <class 'numpy.float64'>\n",
            "bwd_pkts_payload.std : <class 'numpy.float64'>\n",
            "flow_pkts_payload.min : <class 'numpy.float64'>\n",
            "flow_pkts_payload.max : <class 'numpy.float64'>\n",
            "flow_pkts_payload.tot : <class 'numpy.float64'>\n",
            "flow_pkts_payload.avg : <class 'numpy.float64'>\n",
            "flow_pkts_payload.std : <class 'numpy.float64'>\n",
            "fwd_iat.min : <class 'numpy.float64'>\n",
            "fwd_iat.max : <class 'numpy.float64'>\n",
            "fwd_iat.tot : <class 'numpy.float64'>\n",
            "fwd_iat.avg : <class 'numpy.float64'>\n",
            "fwd_iat.std : <class 'numpy.float64'>\n",
            "bwd_iat.min : <class 'numpy.float64'>\n",
            "bwd_iat.max : <class 'numpy.float64'>\n",
            "bwd_iat.tot : <class 'numpy.float64'>\n",
            "bwd_iat.avg : <class 'numpy.float64'>\n",
            "bwd_iat.std : <class 'numpy.float64'>\n",
            "flow_iat.min : <class 'numpy.float64'>\n",
            "flow_iat.max : <class 'numpy.float64'>\n",
            "flow_iat.tot : <class 'numpy.float64'>\n",
            "flow_iat.avg : <class 'numpy.float64'>\n",
            "flow_iat.std : <class 'numpy.float64'>\n",
            "payload_bytes_per_second : <class 'numpy.float64'>\n",
            "fwd_subflow_pkts : <class 'numpy.float64'>\n",
            "bwd_subflow_pkts : <class 'numpy.float64'>\n",
            "fwd_subflow_bytes : <class 'numpy.float64'>\n",
            "bwd_subflow_bytes : <class 'numpy.float64'>\n",
            "fwd_bulk_bytes : <class 'numpy.float64'>\n",
            "bwd_bulk_bytes : <class 'numpy.float64'>\n",
            "fwd_bulk_packets : <class 'numpy.float64'>\n",
            "bwd_bulk_packets : <class 'numpy.float64'>\n",
            "fwd_bulk_rate : <class 'numpy.float64'>\n",
            "bwd_bulk_rate : <class 'numpy.float64'>\n",
            "active.min : <class 'numpy.float64'>\n",
            "active.max : <class 'numpy.float64'>\n",
            "active.tot : <class 'numpy.float64'>\n",
            "active.avg : <class 'numpy.float64'>\n",
            "active.std : <class 'numpy.float64'>\n",
            "idle.min : <class 'numpy.float64'>\n",
            "idle.max : <class 'numpy.float64'>\n",
            "idle.tot : <class 'numpy.float64'>\n",
            "idle.avg : <class 'numpy.float64'>\n",
            "idle.std : <class 'numpy.float64'>\n",
            "fwd_init_window_size : <class 'numpy.int64'>\n",
            "bwd_init_window_size : <class 'numpy.int64'>\n",
            "fwd_last_window_size : <class 'numpy.int64'>\n",
            "traffic_category : <class 'str'>\n",
            "Label : <class 'numpy.int64'>\n"
          ]
        }
      ]
    },
    {
      "cell_type": "markdown",
      "source": [
        "#**3. Preprocessing Data**"
      ],
      "metadata": {
        "id": "C9uPa4voM6nQ"
      }
    },
    {
      "cell_type": "code",
      "source": [
        "from sklearn.preprocessing import StandardScaler, LabelEncoder\n",
        "\n",
        "# Hapus kolom tidak relevan\n",
        "data = data.drop(columns=['Unnamed: 0', 'Unnamed: 0.1', 'uid', 'originh', 'responh'], errors='ignore')\n",
        "\n",
        "# Label Encoding untuk kolom target\n",
        "label_encoder = LabelEncoder()\n",
        "data['traffic_category'] = label_encoder.fit_transform(data['traffic_category'])\n",
        "\n",
        "# Normalisasi kolom numerik\n",
        "numeric_columns = data.select_dtypes(include=['float64', 'int64']).columns\n",
        "scaler = StandardScaler()\n",
        "data[numeric_columns] = scaler.fit_transform(data[numeric_columns])\n",
        "\n",
        "# Pisahkan fitur (X) dan label (y)\n",
        "X = data.drop(columns=['traffic_category'])\n",
        "y = data['traffic_category'].values\n",
        "X_np = X.values  # Konversi X ke NumPy array\n"
      ],
      "metadata": {
        "id": "-WcsU6hz0HCe"
      },
      "execution_count": null,
      "outputs": []
    },
    {
      "cell_type": "markdown",
      "source": [
        "#**4. Diskretisasi Label untuk SMOTE**"
      ],
      "metadata": {
        "id": "yDbgPji6enD_"
      }
    },
    {
      "cell_type": "code",
      "source": [
        "n_bins = 5  # Tentukan jumlah kategori\n",
        "discretizer = KBinsDiscretizer(n_bins=n_bins, encode='ordinal', strategy='uniform')\n",
        "y_labels_discretized = discretizer.fit_transform(y.reshape(-1, 1)).astype(int).ravel()\n",
        "\n",
        "# 3. Oversampling dengan SMOTE\n",
        "smote = SMOTE(random_state=42)\n",
        "X_resampled, y_resampled = smote.fit_resample(X_np, y_labels_discretized)\n",
        "\n",
        "# Format ulang data untuk input CNN\n",
        "X_resampled = X_resampled.reshape((X_resampled.shape[0], X.shape[1], 1, 1))\n",
        "y_resampled = to_categorical(y_resampled)\n",
        "\n",
        "# 4. Membagi Data\n",
        "X_train, X_test, y_train, y_test = train_test_split(X_resampled, y_resampled, test_size=0.2, random_state=42)"
      ],
      "metadata": {
        "colab": {
          "base_uri": "https://localhost:8080/"
        },
        "id": "i_QBi1Q3er3C",
        "outputId": "44399965-58a1-46d9-ed14-298f8b9a916a"
      },
      "execution_count": null,
      "outputs": [
        {
          "output_type": "stream",
          "name": "stderr",
          "text": [
            "/usr/local/lib/python3.10/dist-packages/sklearn/base.py:474: FutureWarning: `BaseEstimator._validate_data` is deprecated in 1.6 and will be removed in 1.7. Use `sklearn.utils.validation.validate_data` instead. This function becomes public and is part of the scikit-learn developer API.\n",
            "  warnings.warn(\n",
            "/usr/local/lib/python3.10/dist-packages/sklearn/utils/_tags.py:354: FutureWarning: The SMOTE or classes from which it inherits use `_get_tags` and `_more_tags`. Please define the `__sklearn_tags__` method, or inherit from `sklearn.base.BaseEstimator` and/or other appropriate mixins such as `sklearn.base.TransformerMixin`, `sklearn.base.ClassifierMixin`, `sklearn.base.RegressorMixin`, and `sklearn.base.OutlierMixin`. From scikit-learn 1.7, not defining `__sklearn_tags__` will raise an error.\n",
            "  warnings.warn(\n"
          ]
        }
      ]
    },
    {
      "cell_type": "markdown",
      "source": [
        "#**5. Membagi Data**"
      ],
      "metadata": {
        "id": "WfDccqGhez5P"
      }
    },
    {
      "cell_type": "code",
      "source": [
        "from sklearn.model_selection import train_test_split\n",
        "\n",
        "X_train, X_test, y_train, y_test = train_test_split(X_resampled, y_resampled, test_size=0.2, random_state=42)"
      ],
      "metadata": {
        "id": "uFicjwOMjxMe"
      },
      "execution_count": null,
      "outputs": []
    },
    {
      "cell_type": "markdown",
      "source": [
        "#**6. Membangun Model CNN**"
      ],
      "metadata": {
        "id": "S5Co4uGujznH"
      }
    },
    {
      "cell_type": "code",
      "source": [
        "from tensorflow.keras.models import Sequential\n",
        "from tensorflow.keras.layers import Conv2D, MaxPooling2D, Flatten, Dense, Dropout, Input\n",
        "from tensorflow.keras.optimizers import Adam\n",
        "\n",
        "model = Sequential([\n",
        "    Input(shape=(X_train.shape[1], X_train.shape[2], 1)),\n",
        "    Conv2D(32, (3, 1), activation='relu'),\n",
        "    MaxPooling2D(pool_size=(2, 1)),\n",
        "    Conv2D(64, (3, 1), activation='relu'),\n",
        "    MaxPooling2D(pool_size=(2, 1)),\n",
        "    Flatten(),\n",
        "    Dense(128, activation='relu'),\n",
        "    Dropout(0.5),\n",
        "    Dense(y_resampled.shape[1], activation='softmax')\n",
        "])\n",
        "\n",
        "model.compile(optimizer=Adam(), loss='categorical_crossentropy', metrics=['accuracy'])"
      ],
      "metadata": {
        "id": "zAtqHTGrj6H2"
      },
      "execution_count": null,
      "outputs": []
    },
    {
      "cell_type": "markdown",
      "source": [
        "#**7. Melatih Model**"
      ],
      "metadata": {
        "id": "R5Am1K1gj_N-"
      }
    },
    {
      "cell_type": "code",
      "source": [
        "history = model.fit(X_train, y_train, epochs=10, batch_size=64, validation_split=0.2)"
      ],
      "metadata": {
        "colab": {
          "base_uri": "https://localhost:8080/"
        },
        "id": "DBRN54DYkDmz",
        "outputId": "3bd89785-621d-4fa7-d685-ac784e2aaf76"
      },
      "execution_count": null,
      "outputs": [
        {
          "output_type": "stream",
          "name": "stdout",
          "text": [
            "Epoch 1/10\n",
            "\u001b[1m17372/17372\u001b[0m \u001b[32m━━━━━━━━━━━━━━━━━━━━\u001b[0m\u001b[37m\u001b[0m \u001b[1m222s\u001b[0m 13ms/step - accuracy: 0.9035 - loss: 0.1918 - val_accuracy: 0.9182 - val_loss: 0.1665\n",
            "Epoch 2/10\n",
            "\u001b[1m17372/17372\u001b[0m \u001b[32m━━━━━━━━━━━━━━━━━━━━\u001b[0m\u001b[37m\u001b[0m \u001b[1m260s\u001b[0m 13ms/step - accuracy: 0.9144 - loss: 0.1717 - val_accuracy: 0.9213 - val_loss: 0.1619\n",
            "Epoch 3/10\n",
            "\u001b[1m17372/17372\u001b[0m \u001b[32m━━━━━━━━━━━━━━━━━━━━\u001b[0m\u001b[37m\u001b[0m \u001b[1m261s\u001b[0m 13ms/step - accuracy: 0.9181 - loss: 0.1667 - val_accuracy: 0.9238 - val_loss: 0.1597\n",
            "Epoch 4/10\n",
            "\u001b[1m17372/17372\u001b[0m \u001b[32m━━━━━━━━━━━━━━━━━━━━\u001b[0m\u001b[37m\u001b[0m \u001b[1m265s\u001b[0m 13ms/step - accuracy: 0.9215 - loss: 0.1622 - val_accuracy: 0.9264 - val_loss: 0.1579\n",
            "Epoch 5/10\n",
            "\u001b[1m17372/17372\u001b[0m \u001b[32m━━━━━━━━━━━━━━━━━━━━\u001b[0m\u001b[37m\u001b[0m \u001b[1m270s\u001b[0m 13ms/step - accuracy: 0.9231 - loss: 0.1599 - val_accuracy: 0.9257 - val_loss: 0.1549\n",
            "Epoch 6/10\n",
            "\u001b[1m17372/17372\u001b[0m \u001b[32m━━━━━━━━━━━━━━━━━━━━\u001b[0m\u001b[37m\u001b[0m \u001b[1m233s\u001b[0m 13ms/step - accuracy: 0.9248 - loss: 0.1574 - val_accuracy: 0.9265 - val_loss: 0.1545\n",
            "Epoch 7/10\n",
            "\u001b[1m17372/17372\u001b[0m \u001b[32m━━━━━━━━━━━━━━━━━━━━\u001b[0m\u001b[37m\u001b[0m \u001b[1m280s\u001b[0m 14ms/step - accuracy: 0.9247 - loss: 0.1574 - val_accuracy: 0.9286 - val_loss: 0.1515\n",
            "Epoch 8/10\n",
            "\u001b[1m17372/17372\u001b[0m \u001b[32m━━━━━━━━━━━━━━━━━━━━\u001b[0m\u001b[37m\u001b[0m \u001b[1m237s\u001b[0m 13ms/step - accuracy: 0.9254 - loss: 0.1563 - val_accuracy: 0.9290 - val_loss: 0.1503\n",
            "Epoch 9/10\n",
            "\u001b[1m17372/17372\u001b[0m \u001b[32m━━━━━━━━━━━━━━━━━━━━\u001b[0m\u001b[37m\u001b[0m \u001b[1m261s\u001b[0m 13ms/step - accuracy: 0.9261 - loss: 0.1552 - val_accuracy: 0.9280 - val_loss: 0.1526\n",
            "Epoch 10/10\n",
            "\u001b[1m17372/17372\u001b[0m \u001b[32m━━━━━━━━━━━━━━━━━━━━\u001b[0m\u001b[37m\u001b[0m \u001b[1m262s\u001b[0m 13ms/step - accuracy: 0.9263 - loss: 0.1552 - val_accuracy: 0.9288 - val_loss: 0.1510\n"
          ]
        }
      ]
    },
    {
      "cell_type": "markdown",
      "source": [
        "#**8. Evaluasi Model**"
      ],
      "metadata": {
        "id": "97bI0Uwbq2sN"
      }
    },
    {
      "cell_type": "code",
      "source": [
        "loss, accuracy = model.evaluate(X_test, y_test)\n",
        "print(f\"Test Loss: {loss}, Test Accuracy: {accuracy}\")"
      ],
      "metadata": {
        "colab": {
          "base_uri": "https://localhost:8080/"
        },
        "id": "7bvjJLGGq69T",
        "outputId": "a7141f83-7a12-40f0-bf90-4f2d66db26d3"
      },
      "execution_count": null,
      "outputs": [
        {
          "output_type": "stream",
          "name": "stdout",
          "text": [
            "\u001b[1m10858/10858\u001b[0m \u001b[32m━━━━━━━━━━━━━━━━━━━━\u001b[0m\u001b[37m\u001b[0m \u001b[1m32s\u001b[0m 3ms/step - accuracy: 0.9295 - loss: 0.1504\n",
            "Test Loss: 0.15010015666484833, Test Accuracy: 0.9295889139175415\n"
          ]
        }
      ]
    },
    {
      "cell_type": "markdown",
      "source": [
        "#**9. Metrik Tambahan**"
      ],
      "metadata": {
        "id": "qL8YEi3Zq9Fr"
      }
    },
    {
      "cell_type": "code",
      "source": [
        "from sklearn.metrics import classification_report, confusion_matrix\n",
        "import seaborn as sns\n",
        "import matplotlib.pyplot as plt\n",
        "\n",
        "y_pred = model.predict(X_test)\n",
        "y_pred_classes = np.argmax(y_pred, axis=1)\n",
        "y_true_classes = np.argmax(y_test, axis=1)\n",
        "\n",
        "print(\"Classification Report:\")\n",
        "print(classification_report(y_true_classes, y_pred_classes))\n",
        "\n",
        "conf_matrix = confusion_matrix(y_true_classes, y_pred_classes)\n",
        "plt.figure(figsize=(10, 8))\n",
        "sns.heatmap(conf_matrix, annot=True, fmt=\"d\", cmap=\"Blues\")\n",
        "plt.show()"
      ],
      "metadata": {
        "colab": {
          "base_uri": "https://localhost:8080/",
          "height": 919
        },
        "id": "abfHh2gKrAnj",
        "outputId": "f57f427d-6e0f-4d11-aa76-06b7ed31cf9c"
      },
      "execution_count": null,
      "outputs": [
        {
          "output_type": "stream",
          "name": "stdout",
          "text": [
            "\u001b[1m10858/10858\u001b[0m \u001b[32m━━━━━━━━━━━━━━━━━━━━\u001b[0m\u001b[37m\u001b[0m \u001b[1m31s\u001b[0m 3ms/step\n",
            "Classification Report:\n",
            "              precision    recall  f1-score   support\n",
            "\n",
            "           0       0.79      0.87      0.83     69323\n",
            "           1       0.86      0.77      0.81     69211\n",
            "           2       1.00      1.00      1.00     69760\n",
            "           3       1.00      1.00      1.00     69604\n",
            "           4       1.00      1.00      1.00     69533\n",
            "\n",
            "    accuracy                           0.93    347431\n",
            "   macro avg       0.93      0.93      0.93    347431\n",
            "weighted avg       0.93      0.93      0.93    347431\n",
            "\n"
          ]
        },
        {
          "output_type": "display_data",
          "data": {
            "text/plain": [
              "<Figure size 1000x800 with 2 Axes>"
            ],
            "image/png": "[encoded data removed]"
          },
          "metadata": {}
        }
      ]
    }
  ]
}